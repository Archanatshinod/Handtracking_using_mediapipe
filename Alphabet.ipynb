{
  "cells": [
    {
      "cell_type": "markdown",
      "metadata": {
        "id": "view-in-github",
        "colab_type": "text"
      },
      "source": [
        "<a href=\"https://colab.research.google.com/github/Archanatshinod/airscribe_ml/blob/main/Alphabet.ipynb\" target=\"_parent\"><img src=\"https://colab.research.google.com/assets/colab-badge.svg\" alt=\"Open In Colab\"/></a>"
      ]
    },
    {
      "cell_type": "code",
      "execution_count": null,
      "metadata": {
        "id": "sd1xelGTcyuP"
      },
      "outputs": [],
      "source": []
    },
    {
      "cell_type": "code",
      "execution_count": null,
      "metadata": {
        "colab": {
          "background_save": true
        },
        "id": "pPas9SK1N4k3"
      },
      "outputs": [],
      "source": [
        "# Common\n",
        "import os\n",
        "import keras\n",
        "import numpy as np\n",
        "import tensorflow as tf\n"
      ]
    },
    {
      "cell_type": "code",
      "execution_count": null,
      "metadata": {
        "id": "6nJxk7z8N8uD"
      },
      "outputs": [],
      "source": [
        "# Data\n",
        "import pandas as pd\n",
        "from keras.preprocessing.image import ImageDataGenerator\n",
        "from sklearn.model_selection import StratifiedShuffleSplit, train_test_split\n"
      ]
    },
    {
      "cell_type": "code",
      "execution_count": null,
      "metadata": {
        "id": "_0N70npnODZ1"
      },
      "outputs": [],
      "source": [
        "\n",
        "# Model\n",
        "from keras.models import Sequential, load_model\n",
        "from keras.layers import Conv2D, MaxPool2D, BatchNormalization, Dropout, Dense, GlobalAvgPool2D\n"
      ]
    },
    {
      "cell_type": "code",
      "execution_count": null,
      "metadata": {
        "id": "QcqLeke_ONcE"
      },
      "outputs": [],
      "source": [
        "\n",
        "# Specify Data Path\n",
        "file_path = '/content/drive/MyDrive/Colab Notebooks/DATASET/A_Z Handwritten Data.csv'\n",
        "\n",
        "# Column Names\n",
        "names = ['class']\n",
        "for id in range(1,785):\n",
        "    names.append(id)\n"
      ]
    },
    {
      "cell_type": "code",
      "execution_count": null,
      "metadata": {
        "id": "HzfyO1uqORc4"
      },
      "outputs": [],
      "source": [
        "# Load Data\n",
        "df = pd.read_csv(file_path,header=None, names=names)\n",
        "\n",
        "# Class Mapping\n",
        "class_mapping = {}\n",
        "alphabets = ['A', 'B', 'C', 'D', 'E', 'F', 'G', 'H', 'I', 'J', 'K', 'L', 'M', 'N', 'O', 'P', 'Q', 'R', 'S', 'T', 'U', 'V', 'W', 'X', 'Y', 'Z']\n",
        "for i in range(len(alphabets)):\n",
        "    class_mapping[i] = alphabets[i]\n"
      ]
    },
    {
      "cell_type": "code",
      "execution_count": null,
      "metadata": {
        "id": "u0D-eXA0OWed"
      },
      "outputs": [],
      "source": [
        "\n",
        "# Data Loading\n",
        "y_full = df.pop('class')\n",
        "x_full = df.to_numpy().reshape(-1,28,28, 1)\n",
        "splitter = StratifiedShuffleSplit(n_splits=3,test_size=0.2)\n",
        "for train_ids, test_ids in splitter.split(x_full, y_full):\n",
        "    X_train_full, y_train_full = x_full[train_ids], y_full[train_ids].to_numpy()\n",
        "    X_test, y_test = x_full[test_ids], y_full[test_ids].to_numpy()\n",
        "X_train, X_valid, y_train, y_valid = train_test_split(X_train_full, y_train_full, test_size=0.1)"
      ]
    },
    {
      "cell_type": "code",
      "execution_count": null,
      "metadata": {
        "id": "hFAErj8dOcKi"
      },
      "outputs": [],
      "source": [
        "# Custom Model\n",
        "model = Sequential([\n",
        "    Conv2D(32, kernel_size=3, strides=2, padding='same', kernel_initializer='he_normal', input_shape=(28, 28, 1)),\n",
        "    MaxPool2D(),\n",
        "\n",
        "    BatchNormalization(),\n",
        "    Conv2D(64, kernel_size=3, padding='same', kernel_initializer='he_normal'),\n",
        "    BatchNormalization(),\n",
        "    Conv2D(64, kernel_size=3, padding='same', kernel_initializer='he_normal'),\n",
        "    MaxPool2D(),\n",
        "\n",
        "    BatchNormalization(),\n",
        "    Conv2D(128, kernel_size=3, padding='same', kernel_initializer='he_normal'),\n",
        "    BatchNormalization(),\n",
        "    Conv2D(128, kernel_size=3, padding='same', kernel_initializer='he_normal'),\n",
        "    MaxPool2D(),\n",
        "\n",
        "    BatchNormalization(),\n",
        "    Conv2D(256, kernel_size=3, padding='same', kernel_initializer='he_normal'),\n",
        "    BatchNormalization(),\n",
        "    Conv2D(256, kernel_size=3, padding='same', kernel_initializer='he_normal'),\n",
        "\n",
        "    GlobalAvgPool2D(),\n",
        "    Dense(256, activation='relu'),\n",
        "    Dropout(0.2),\n",
        "    Dense(26, activation='sigmoid')\n",
        "])"
      ]
    },
    {
      "cell_type": "code",
      "execution_count": null,
      "metadata": {
        "colab": {
          "background_save": true,
          "base_uri": "https://localhost:8080/"
        },
        "id": "o1oLeFINPM_i",
        "outputId": "0a45a4e3-a6b0-4b3c-ec06-1becdd64a00d"
      },
      "outputs": [
        {
          "name": "stdout",
          "output_type": "stream",
          "text": [
            "Epoch 1/100\n",
            "1029/1029 [==============================] - 103s 96ms/step - loss: nan - accuracy: 0.9347 - val_loss: nan - val_accuracy: 0.3006\n",
            "Epoch 2/100\n",
            "1029/1029 [==============================] - 97s 95ms/step - loss: nan - accuracy: 0.3039 - val_loss: nan - val_accuracy: 0.3006\n",
            "Epoch 3/100\n",
            "1029/1029 [==============================] - 97s 94ms/step - loss: nan - accuracy: 0.3039 - val_loss: nan - val_accuracy: 0.3006\n",
            "Epoch 4/100\n",
            "1029/1029 [==============================] - 96s 94ms/step - loss: nan - accuracy: 0.3039 - val_loss: nan - val_accuracy: 0.3006\n",
            "Epoch 5/100\n",
            "1029/1029 [==============================] - 97s 94ms/step - loss: nan - accuracy: 0.3039 - val_loss: nan - val_accuracy: 0.3006\n",
            "Epoch 6/100\n",
            "1029/1029 [==============================] - 97s 94ms/step - loss: nan - accuracy: 0.3039 - val_loss: nan - val_accuracy: 0.3006\n",
            "Epoch 7/100\n",
            "1029/1029 [==============================] - 98s 95ms/step - loss: nan - accuracy: 0.3039 - val_loss: nan - val_accuracy: 0.3006\n",
            "Epoch 8/100\n",
            "1029/1029 [==============================] - 98s 95ms/step - loss: nan - accuracy: 0.3039 - val_loss: nan - val_accuracy: 0.3006\n",
            "Epoch 9/100\n",
            "1029/1029 [==============================] - 95s 93ms/step - loss: nan - accuracy: 0.3039 - val_loss: nan - val_accuracy: 0.3006\n",
            "Epoch 10/100\n",
            "1029/1029 [==============================] - 95s 92ms/step - loss: nan - accuracy: 0.3039 - val_loss: nan - val_accuracy: 0.3006\n",
            "Epoch 11/100\n",
            "1029/1029 [==============================] - 94s 91ms/step - loss: nan - accuracy: 0.3039 - val_loss: nan - val_accuracy: 0.3006\n",
            "Epoch 12/100\n",
            "1029/1029 [==============================] - 95s 92ms/step - loss: nan - accuracy: 0.3039 - val_loss: nan - val_accuracy: 0.3006\n",
            "Epoch 13/100\n",
            "1029/1029 [==============================] - 96s 93ms/step - loss: nan - accuracy: 0.3039 - val_loss: nan - val_accuracy: 0.3006\n",
            "Epoch 14/100\n",
            "1029/1029 [==============================] - 96s 93ms/step - loss: nan - accuracy: 0.3039 - val_loss: nan - val_accuracy: 0.3006\n",
            "Epoch 15/100\n",
            "1029/1029 [==============================] - 98s 95ms/step - loss: nan - accuracy: 0.3039 - val_loss: nan - val_accuracy: 0.3006\n",
            "Epoch 16/100\n",
            "1029/1029 [==============================] - 98s 95ms/step - loss: nan - accuracy: 0.3039 - val_loss: nan - val_accuracy: 0.3006\n",
            "Epoch 17/100\n",
            "1029/1029 [==============================] - 97s 94ms/step - loss: nan - accuracy: 0.3039 - val_loss: nan - val_accuracy: 0.3006\n",
            "Epoch 18/100\n",
            "1029/1029 [==============================] - 99s 96ms/step - loss: nan - accuracy: 0.3039 - val_loss: nan - val_accuracy: 0.3006\n",
            "Epoch 19/100\n",
            "1029/1029 [==============================] - 97s 95ms/step - loss: nan - accuracy: 0.3039 - val_loss: nan - val_accuracy: 0.3006\n",
            "Epoch 20/100\n",
            "1029/1029 [==============================] - 103s 100ms/step - loss: nan - accuracy: 0.3039 - val_loss: nan - val_accuracy: 0.3006\n",
            "Epoch 21/100\n",
            "1029/1029 [==============================] - 104s 101ms/step - loss: nan - accuracy: 0.3039 - val_loss: nan - val_accuracy: 0.3006\n",
            "Epoch 22/100\n",
            "1029/1029 [==============================] - 101s 98ms/step - loss: nan - accuracy: 0.3039 - val_loss: nan - val_accuracy: 0.3006\n",
            "Epoch 23/100\n",
            "1029/1029 [==============================] - 102s 99ms/step - loss: nan - accuracy: 0.3039 - val_loss: nan - val_accuracy: 0.3006\n",
            "Epoch 24/100\n",
            "1029/1029 [==============================] - 102s 99ms/step - loss: nan - accuracy: 0.3039 - val_loss: nan - val_accuracy: 0.3006\n",
            "Epoch 25/100\n",
            "1029/1029 [==============================] - 103s 100ms/step - loss: nan - accuracy: 0.3039 - val_loss: nan - val_accuracy: 0.3006\n",
            "Epoch 26/100\n",
            "1029/1029 [==============================] - 103s 100ms/step - loss: nan - accuracy: 0.3039 - val_loss: nan - val_accuracy: 0.3006\n",
            "Epoch 27/100\n",
            "1029/1029 [==============================] - 101s 98ms/step - loss: nan - accuracy: 0.3039 - val_loss: nan - val_accuracy: 0.3006\n",
            "Epoch 28/100\n",
            "1029/1029 [==============================] - 103s 101ms/step - loss: nan - accuracy: 0.3039 - val_loss: nan - val_accuracy: 0.3006\n",
            "Epoch 29/100\n",
            "1029/1029 [==============================] - 103s 100ms/step - loss: nan - accuracy: 0.3039 - val_loss: nan - val_accuracy: 0.3006\n",
            "Epoch 30/100\n",
            "1029/1029 [==============================] - 103s 100ms/step - loss: nan - accuracy: 0.3039 - val_loss: nan - val_accuracy: 0.3006\n",
            "Epoch 31/100\n",
            "1029/1029 [==============================] - 102s 99ms/step - loss: nan - accuracy: 0.3039 - val_loss: nan - val_accuracy: 0.3006\n",
            "Epoch 32/100\n",
            "1029/1029 [==============================] - 102s 99ms/step - loss: nan - accuracy: 0.3039 - val_loss: nan - val_accuracy: 0.3006\n",
            "Epoch 33/100\n",
            "1029/1029 [==============================] - 101s 98ms/step - loss: nan - accuracy: 0.3039 - val_loss: nan - val_accuracy: 0.3006\n",
            "Epoch 34/100\n",
            "1029/1029 [==============================] - 103s 100ms/step - loss: nan - accuracy: 0.3039 - val_loss: nan - val_accuracy: 0.3006\n",
            "Epoch 35/100\n",
            "1029/1029 [==============================] - 102s 99ms/step - loss: nan - accuracy: 0.3039 - val_loss: nan - val_accuracy: 0.3006\n",
            "Epoch 36/100\n",
            "1029/1029 [==============================] - 102s 100ms/step - loss: nan - accuracy: 0.3039 - val_loss: nan - val_accuracy: 0.3006\n",
            "Epoch 37/100\n",
            "1029/1029 [==============================] - 104s 101ms/step - loss: nan - accuracy: 0.3039 - val_loss: nan - val_accuracy: 0.3006\n",
            "Epoch 38/100\n",
            "1029/1029 [==============================] - 102s 99ms/step - loss: nan - accuracy: 0.3039 - val_loss: nan - val_accuracy: 0.3006\n",
            "Epoch 39/100\n",
            "1029/1029 [==============================] - 98s 95ms/step - loss: nan - accuracy: 0.3039 - val_loss: nan - val_accuracy: 0.3006\n",
            "Epoch 40/100\n",
            "1029/1029 [==============================] - 96s 94ms/step - loss: nan - accuracy: 0.3039 - val_loss: nan - val_accuracy: 0.3006\n",
            "Epoch 41/100\n",
            "1029/1029 [==============================] - 97s 94ms/step - loss: nan - accuracy: 0.3039 - val_loss: nan - val_accuracy: 0.3006\n",
            "Epoch 42/100\n",
            "1029/1029 [==============================] - 97s 95ms/step - loss: nan - accuracy: 0.3039 - val_loss: nan - val_accuracy: 0.3006\n",
            "Epoch 43/100\n",
            "1029/1029 [==============================] - 98s 95ms/step - loss: nan - accuracy: 0.3039 - val_loss: nan - val_accuracy: 0.3006\n",
            "Epoch 44/100\n",
            "1029/1029 [==============================] - 98s 95ms/step - loss: nan - accuracy: 0.3039 - val_loss: nan - val_accuracy: 0.3006\n",
            "Epoch 45/100\n",
            "1029/1029 [==============================] - 96s 93ms/step - loss: nan - accuracy: 0.3039 - val_loss: nan - val_accuracy: 0.3006\n",
            "Epoch 46/100\n",
            "1029/1029 [==============================] - 95s 93ms/step - loss: nan - accuracy: 0.3039 - val_loss: nan - val_accuracy: 0.3006\n",
            "Epoch 47/100\n",
            "1029/1029 [==============================] - 95s 93ms/step - loss: nan - accuracy: 0.3039 - val_loss: nan - val_accuracy: 0.3006\n",
            "Epoch 48/100\n",
            "1029/1029 [==============================] - 101s 98ms/step - loss: nan - accuracy: 0.3039 - val_loss: nan - val_accuracy: 0.3006\n",
            "Epoch 49/100\n",
            "1029/1029 [==============================] - 102s 99ms/step - loss: nan - accuracy: 0.3039 - val_loss: nan - val_accuracy: 0.3006\n",
            "Epoch 50/100\n",
            "1029/1029 [==============================] - 102s 99ms/step - loss: nan - accuracy: 0.3039 - val_loss: nan - val_accuracy: 0.3006\n",
            "Epoch 51/100\n",
            "1029/1029 [==============================] - 100s 97ms/step - loss: nan - accuracy: 0.3039 - val_loss: nan - val_accuracy: 0.3006\n",
            "Epoch 52/100\n",
            "1029/1029 [==============================] - 102s 99ms/step - loss: nan - accuracy: 0.3039 - val_loss: nan - val_accuracy: 0.3006\n",
            "Epoch 53/100\n",
            "1029/1029 [==============================] - 100s 97ms/step - loss: nan - accuracy: 0.3039 - val_loss: nan - val_accuracy: 0.3006\n",
            "Epoch 54/100\n",
            "1029/1029 [==============================] - 101s 98ms/step - loss: nan - accuracy: 0.3039 - val_loss: nan - val_accuracy: 0.3006\n",
            "Epoch 55/100\n",
            "1029/1029 [==============================] - 102s 99ms/step - loss: nan - accuracy: 0.3039 - val_loss: nan - val_accuracy: 0.3006\n",
            "Epoch 56/100\n",
            "1029/1029 [==============================] - 101s 99ms/step - loss: nan - accuracy: 0.3039 - val_loss: nan - val_accuracy: 0.3006\n",
            "Epoch 57/100\n",
            "1029/1029 [==============================] - 101s 98ms/step - loss: nan - accuracy: 0.3039 - val_loss: nan - val_accuracy: 0.3006\n",
            "Epoch 58/100\n",
            "1029/1029 [==============================] - 101s 98ms/step - loss: nan - accuracy: 0.3039 - val_loss: nan - val_accuracy: 0.3006\n",
            "Epoch 59/100\n",
            "1029/1029 [==============================] - 101s 98ms/step - loss: nan - accuracy: 0.3039 - val_loss: nan - val_accuracy: 0.3006\n",
            "Epoch 60/100\n",
            "1029/1029 [==============================] - 100s 97ms/step - loss: nan - accuracy: 0.3039 - val_loss: nan - val_accuracy: 0.3006\n",
            "Epoch 61/100\n",
            "1029/1029 [==============================] - 98s 96ms/step - loss: nan - accuracy: 0.3039 - val_loss: nan - val_accuracy: 0.3006\n",
            "Epoch 62/100\n",
            "1029/1029 [==============================] - 98s 95ms/step - loss: nan - accuracy: 0.3039 - val_loss: nan - val_accuracy: 0.3006\n",
            "Epoch 63/100\n",
            "1029/1029 [==============================] - 98s 95ms/step - loss: nan - accuracy: 0.3039 - val_loss: nan - val_accuracy: 0.3006\n",
            "Epoch 64/100\n",
            "1029/1029 [==============================] - 98s 96ms/step - loss: nan - accuracy: 0.3039 - val_loss: nan - val_accuracy: 0.3006\n",
            "Epoch 65/100\n",
            "1029/1029 [==============================] - 97s 94ms/step - loss: nan - accuracy: 0.3039 - val_loss: nan - val_accuracy: 0.3006\n",
            "Epoch 66/100\n",
            "1029/1029 [==============================] - 98s 95ms/step - loss: nan - accuracy: 0.3039 - val_loss: nan - val_accuracy: 0.3006\n",
            "Epoch 67/100\n",
            "1029/1029 [==============================] - 96s 93ms/step - loss: nan - accuracy: 0.3039 - val_loss: nan - val_accuracy: 0.3006\n",
            "Epoch 68/100\n",
            "1029/1029 [==============================] - 97s 94ms/step - loss: nan - accuracy: 0.3039 - val_loss: nan - val_accuracy: 0.3006\n",
            "Epoch 69/100\n",
            "1029/1029 [==============================] - 97s 95ms/step - loss: nan - accuracy: 0.3039 - val_loss: nan - val_accuracy: 0.3006\n",
            "Epoch 70/100\n",
            "1029/1029 [==============================] - 96s 93ms/step - loss: nan - accuracy: 0.3039 - val_loss: nan - val_accuracy: 0.3006\n",
            "Epoch 71/100\n",
            "1029/1029 [==============================] - 96s 93ms/step - loss: nan - accuracy: 0.3039 - val_loss: nan - val_accuracy: 0.3006\n",
            "Epoch 72/100\n",
            "1029/1029 [==============================] - 97s 94ms/step - loss: nan - accuracy: 0.3039 - val_loss: nan - val_accuracy: 0.3006\n",
            "Epoch 73/100\n",
            " 673/1029 [==================>...........] - ETA: 32s - loss: nan - accuracy: 0.3027"
          ]
        }
      ],
      "source": [
        "# Compile\n",
        "model.compile(\n",
        "    loss='sparse_categorical_crossentropy',\n",
        "    optimizer='adam',\n",
        "    metrics=['accuracy']\n",
        ")\n",
        "\n",
        "# Training\n",
        "model.fit(\n",
        "    X_train, y_train,\n",
        "    validation_data=(X_valid, y_valid),\n",
        "    epochs=100\n",
        ")\n"
      ]
    },
    {
      "cell_type": "code",
      "execution_count": null,
      "metadata": {
        "colab": {
          "base_uri": "https://localhost:8080/"
        },
        "id": "3KgTiKnnQ0fQ",
        "outputId": "e9b45891-b9ae-4bd2-eadd-c0baf5f94d3a"
      },
      "outputs": [
        {
          "name": "stdout",
          "output_type": "stream",
          "text": [
            "Model saved successfully.\n"
          ]
        },
        {
          "name": "stderr",
          "output_type": "stream",
          "text": [
            "/usr/local/lib/python3.10/dist-packages/keras/src/engine/training.py:3103: UserWarning: You are saving your model as an HDF5 file via `model.save()`. This file format is considered legacy. We recommend using instead the native Keras format, e.g. `model.save('my_model.keras')`.\n",
            "  saving_api.save_model(\n"
          ]
        }
      ],
      "source": [
        "# Specify the path to save the model\n",
        "model_path = \"/content/drive/MyDrive/Colab Notebooks/DATASET/alphamodel.h5\"\n",
        "\n",
        "# Save the model\n",
        "model.save(model_path)\n",
        "\n",
        "print(\"Model saved successfully.\")\n"
      ]
    },
    {
      "cell_type": "code",
      "execution_count": null,
      "metadata": {
        "colab": {
          "base_uri": "https://localhost:8080/"
        },
        "id": "-k84pKULS_-l",
        "outputId": "19285b2c-6704-435c-e4ec-26a4219634be"
      },
      "outputs": [
        {
          "name": "stdout",
          "output_type": "stream",
          "text": [
            "Drive already mounted at /content/drive; to attempt to forcibly remount, call drive.mount(\"/content/drive\", force_remount=True).\n"
          ]
        }
      ],
      "source": [
        "from google.colab import drive\n",
        "drive.mount('/content/drive')"
      ]
    },
    {
      "cell_type": "code",
      "execution_count": null,
      "metadata": {
        "colab": {
          "base_uri": "https://localhost:8080/"
        },
        "id": "PVLte9IwOf1g",
        "outputId": "72af6572-231c-46bb-e42f-7a6dea635c28"
      },
      "outputs": [
        {
          "name": "stdout",
          "output_type": "stream",
          "text": [
            "56/56 [==============================] - 1s 11ms/step - loss: nan - accuracy: 1.0000\n"
          ]
        },
        {
          "data": {
            "text/plain": [
              "[nan, 1.0]"
            ]
          },
          "execution_count": 15,
          "metadata": {},
          "output_type": "execute_result"
        }
      ],
      "source": [
        "# Evaluation\n",
        "model = load_model('/content/drive/MyDrive/Colab Notebooks/DATASET/alphamodel.h5')\n",
        "model.evaluate(X_test,y_test)\n"
      ]
    },
    {
      "cell_type": "code",
      "execution_count": null,
      "metadata": {
        "colab": {
          "base_uri": "https://localhost:8080/"
        },
        "id": "yjr8dlpVPzMI",
        "outputId": "65a99b91-01f3-401e-963f-f40ee4a5790d"
      },
      "outputs": [
        {
          "name": "stdout",
          "output_type": "stream",
          "text": [
            "1/1 [==============================] - 0s 21ms/step\n"
          ]
        },
        {
          "data": {
            "text/plain": [
              "array([[nan, nan, nan, nan, nan, nan, nan, nan, nan, nan, nan, nan, nan,\n",
              "        nan, nan, nan, nan, nan, nan, nan, nan, nan, nan, nan, nan, nan]],\n",
              "      dtype=float32)"
            ]
          },
          "execution_count": 20,
          "metadata": {},
          "output_type": "execute_result"
        }
      ],
      "source": [
        "from PIL import Image\n",
        "import numpy as np\n",
        "\n",
        "# Load the image\n",
        "image_path = '/content/drive/MyDrive/Colab Notebooks/DATASET/e.png'\n",
        "image = Image.open(image_path).convert('L')  # Convert to grayscale\n",
        "\n",
        "# Resize the image to 28x28 pixels\n",
        "image = image.resize((28, 28))\n",
        "\n",
        "# Convert the image to a numpy array\n",
        "image_array = np.array(image)\n",
        "\n",
        "# Normalize the image\n",
        "image_array = image_array / 255.0\n",
        "\n",
        "# Reshape the image to match the input shape of the model\n",
        "input_image = image_array.reshape(1, 28, 28, 1)\n",
        "\n",
        "# Make a prediction using the loaded model\n",
        "prediction = model.predict(input_image)\n",
        "\n",
        "prediction"
      ]
    },
    {
      "cell_type": "code",
      "execution_count": null,
      "metadata": {
        "id": "jIeghfp9m1Fb"
      },
      "outputs": [],
      "source": []
    }
  ],
  "metadata": {
    "colab": {
      "provenance": [],
      "mount_file_id": "18S59lpBlCTqdvqcCSLZKOM7_bu1-kHRF",
      "authorship_tag": "ABX9TyNskAbXsuUH58k/0FvuGYOv",
      "include_colab_link": true
    },
    "kernelspec": {
      "display_name": "Python 3",
      "name": "python3"
    },
    "language_info": {
      "name": "python"
    }
  },
  "nbformat": 4,
  "nbformat_minor": 0
}