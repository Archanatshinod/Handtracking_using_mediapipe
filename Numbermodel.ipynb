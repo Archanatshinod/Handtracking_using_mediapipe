{
  "nbformat": 4,
  "nbformat_minor": 0,
  "metadata": {
    "colab": {
      "provenance": [],
      "mount_file_id": "1ylkjrGiHFEyYne-TmAq3HTZ_D_tPVfLt",
      "authorship_tag": "ABX9TyNQbLtJ8hu9tvZB/2OC/0fy",
      "include_colab_link": true
    },
    "kernelspec": {
      "name": "python3",
      "display_name": "Python 3"
    },
    "language_info": {
      "name": "python"
    }
  },
  "cells": [
    {
      "cell_type": "markdown",
      "metadata": {
        "id": "view-in-github",
        "colab_type": "text"
      },
      "source": [
        "<a href=\"https://colab.research.google.com/github/Archanatshinod/airscribe_ml/blob/main/Numbermodel.ipynb\" target=\"_parent\"><img src=\"https://colab.research.google.com/assets/colab-badge.svg\" alt=\"Open In Colab\"/></a>"
      ]
    },
    {
      "cell_type": "code",
      "execution_count": null,
      "metadata": {
        "id": "pGGfvoD6EUHE"
      },
      "outputs": [],
      "source": [
        "import tensorflow as tf\n",
        "from tensorflow.keras.datasets import mnist\n",
        "from tensorflow.keras.models import Sequential\n",
        "from tensorflow.keras.layers import Conv2D, MaxPooling2D, Flatten, Dense"
      ]
    },
    {
      "cell_type": "code",
      "source": [
        "(x_train, y_train), (x_test, y_test) = mnist.load_data()"
      ],
      "metadata": {
        "colab": {
          "base_uri": "https://localhost:8080/"
        },
        "id": "EKgF_ey_Elq1",
        "outputId": "ed779f98-124d-4bfc-8bab-a2e143024e59"
      },
      "execution_count": null,
      "outputs": [
        {
          "output_type": "stream",
          "name": "stdout",
          "text": [
            "Downloading data from https://storage.googleapis.com/tensorflow/tf-keras-datasets/mnist.npz\n",
            "11490434/11490434 [==============================] - 0s 0us/step\n"
          ]
        }
      ]
    },
    {
      "cell_type": "code",
      "source": [
        "x_train, x_test = x_train / 255.0, x_test / 255.0"
      ],
      "metadata": {
        "id": "gyHeotirFVM-"
      },
      "execution_count": null,
      "outputs": []
    },
    {
      "cell_type": "code",
      "source": [
        "x_train = x_train.reshape(x_train.shape[0], 28, 28, 1)\n",
        "x_test = x_test.reshape(x_test.shape[0], 28, 28, 1)"
      ],
      "metadata": {
        "id": "POWo13vkFjRT"
      },
      "execution_count": null,
      "outputs": []
    },
    {
      "cell_type": "code",
      "source": [
        "model = Sequential([\n",
        "    Conv2D(32, (3, 3), activation='relu', input_shape=(28, 28, 1)),\n",
        "    MaxPooling2D((2, 2)),\n",
        "    Conv2D(64, (3, 3), activation='relu'),\n",
        "    MaxPooling2D((2, 2)),\n",
        "    Flatten(),\n",
        "    Dense(128, activation='relu'),\n",
        "    Dense(10, activation='softmax')\n",
        "])"
      ],
      "metadata": {
        "id": "C7Z02DxsFxuR"
      },
      "execution_count": null,
      "outputs": []
    },
    {
      "cell_type": "code",
      "source": [
        "model.compile(optimizer='adam',\n",
        "              loss='sparse_categorical_crossentropy',\n",
        "              metrics=['accuracy'])"
      ],
      "metadata": {
        "id": "Ck7bzCDHF7ir"
      },
      "execution_count": null,
      "outputs": []
    },
    {
      "cell_type": "code",
      "source": [
        "model.fit(x_train, y_train, epochs=20, validation_data=(x_test, y_test))\n",
        "\n",
        "# Save the trained model\n",
        "model.save('/content/drive/MyDrive/Colab Notebooks/DATASET/NumberModel1.h5')\n"
      ],
      "metadata": {
        "colab": {
          "base_uri": "https://localhost:8080/"
        },
        "id": "5nvSIMFsGD6U",
        "outputId": "c35eb6df-a617-4961-f6bf-85b1588a675f"
      },
      "execution_count": null,
      "outputs": [
        {
          "output_type": "stream",
          "name": "stdout",
          "text": [
            "Epoch 1/20\n",
            "1875/1875 [==============================] - 37s 20ms/step - loss: 0.1283 - accuracy: 0.9604 - val_loss: 0.0411 - val_accuracy: 0.9868\n",
            "Epoch 2/20\n",
            "1875/1875 [==============================] - 40s 22ms/step - loss: 0.0413 - accuracy: 0.9872 - val_loss: 0.0306 - val_accuracy: 0.9896\n",
            "Epoch 3/20\n",
            "1875/1875 [==============================] - 35s 19ms/step - loss: 0.0292 - accuracy: 0.9905 - val_loss: 0.0290 - val_accuracy: 0.9893\n",
            "Epoch 4/20\n",
            "1875/1875 [==============================] - 36s 19ms/step - loss: 0.0203 - accuracy: 0.9936 - val_loss: 0.0360 - val_accuracy: 0.9885\n",
            "Epoch 5/20\n",
            "1875/1875 [==============================] - 34s 18ms/step - loss: 0.0154 - accuracy: 0.9952 - val_loss: 0.0417 - val_accuracy: 0.9880\n",
            "Epoch 6/20\n",
            "1875/1875 [==============================] - 36s 19ms/step - loss: 0.0111 - accuracy: 0.9966 - val_loss: 0.0289 - val_accuracy: 0.9927\n",
            "Epoch 7/20\n",
            "1875/1875 [==============================] - 35s 19ms/step - loss: 0.0090 - accuracy: 0.9970 - val_loss: 0.0343 - val_accuracy: 0.9902\n",
            "Epoch 8/20\n",
            "1875/1875 [==============================] - 36s 19ms/step - loss: 0.0075 - accuracy: 0.9973 - val_loss: 0.0362 - val_accuracy: 0.9907\n",
            "Epoch 9/20\n",
            "1875/1875 [==============================] - 36s 19ms/step - loss: 0.0087 - accuracy: 0.9971 - val_loss: 0.0332 - val_accuracy: 0.9911\n",
            "Epoch 10/20\n",
            "1875/1875 [==============================] - 35s 18ms/step - loss: 0.0053 - accuracy: 0.9983 - val_loss: 0.0345 - val_accuracy: 0.9928\n",
            "Epoch 11/20\n",
            "1875/1875 [==============================] - 36s 19ms/step - loss: 0.0051 - accuracy: 0.9985 - val_loss: 0.0487 - val_accuracy: 0.9904\n",
            "Epoch 12/20\n",
            "1875/1875 [==============================] - 36s 19ms/step - loss: 0.0053 - accuracy: 0.9980 - val_loss: 0.0372 - val_accuracy: 0.9919\n",
            "Epoch 13/20\n",
            "1875/1875 [==============================] - 36s 19ms/step - loss: 0.0029 - accuracy: 0.9990 - val_loss: 0.0377 - val_accuracy: 0.9935\n",
            "Epoch 14/20\n",
            "1875/1875 [==============================] - 35s 19ms/step - loss: 0.0052 - accuracy: 0.9984 - val_loss: 0.0507 - val_accuracy: 0.9911\n",
            "Epoch 15/20\n",
            "1875/1875 [==============================] - 35s 19ms/step - loss: 0.0048 - accuracy: 0.9984 - val_loss: 0.0359 - val_accuracy: 0.9922\n",
            "Epoch 16/20\n",
            "1875/1875 [==============================] - 35s 19ms/step - loss: 0.0039 - accuracy: 0.9987 - val_loss: 0.0684 - val_accuracy: 0.9890\n",
            "Epoch 17/20\n",
            "1875/1875 [==============================] - 35s 19ms/step - loss: 0.0038 - accuracy: 0.9987 - val_loss: 0.0453 - val_accuracy: 0.9914\n",
            "Epoch 18/20\n",
            "1875/1875 [==============================] - 36s 19ms/step - loss: 0.0037 - accuracy: 0.9989 - val_loss: 0.0541 - val_accuracy: 0.9909\n",
            "Epoch 19/20\n",
            "1875/1875 [==============================] - 38s 20ms/step - loss: 0.0034 - accuracy: 0.9990 - val_loss: 0.0448 - val_accuracy: 0.9907\n",
            "Epoch 20/20\n",
            "1875/1875 [==============================] - 35s 19ms/step - loss: 0.0037 - accuracy: 0.9989 - val_loss: 0.0610 - val_accuracy: 0.9904\n"
          ]
        },
        {
          "output_type": "stream",
          "name": "stderr",
          "text": [
            "/usr/local/lib/python3.10/dist-packages/keras/src/engine/training.py:3103: UserWarning: You are saving your model as an HDF5 file via `model.save()`. This file format is considered legacy. We recommend using instead the native Keras format, e.g. `model.save('my_model.keras')`.\n",
            "  saving_api.save_model(\n"
          ]
        }
      ]
    },
    {
      "cell_type": "code",
      "source": [
        "import cv2\n",
        "import numpy as np\n",
        "from tensorflow.keras.models import load_model\n",
        "model = load_model('/content/drive/*/MyDrive/Colab Notebooks/DATASET/NumberModel1.h5')\n",
        "\n",
        "\n",
        "def preprocess_image(image_path):\n",
        "    image = cv2.imread(image_path, cv2.IMREAD_GRAYSCALE)\n",
        "    image = cv2.resize(image, (28, 28))\n",
        "    image = image / 255.0\n",
        "    image = np.reshape(image, (1, 28, 28, 1))\n",
        "    return image\n",
        "\n",
        "image_path = '/content/drive/*/MyDrive/Colab Notebooks/DATASET/six.jpeg'\n",
        "image = preprocess_image(image_path)\n",
        "\n",
        "prediction = model.predict(image)\n",
        "\n",
        "predicted_label = np.argmax(prediction)\n",
        "\n",
        "print(f'Predicted label: {predicted_label}')\n"
      ],
      "metadata": {
        "colab": {
          "base_uri": "https://localhost:8080/"
        },
        "id": "wEj0_CBLJ8n0",
        "outputId": "3015c44d-5e71-4ab7-ec94-34b3f1a4df9d"
      },
      "execution_count": null,
      "outputs": [
        {
          "output_type": "stream",
          "name": "stdout",
          "text": [
            "1/1 [==============================] - 0s 61ms/step\n",
            "Predicted label: 6\n"
          ]
        }
      ]
    },
    {
      "cell_type": "code",
      "source": [
        "from google.colab import drive\n",
        "drive.mount('/content/drive/*')"
      ],
      "metadata": {
        "colab": {
          "base_uri": "https://localhost:8080/"
        },
        "id": "PUtuDOUXR_uk",
        "outputId": "5449c17a-1053-412f-ee8d-6282884d4848"
      },
      "execution_count": null,
      "outputs": [
        {
          "output_type": "stream",
          "name": "stdout",
          "text": [
            "Mounted at /content/drive/*\n"
          ]
        }
      ]
    },
    {
      "cell_type": "code",
      "source": [],
      "metadata": {
        "id": "WUQJ_nt8R0qc"
      },
      "execution_count": null,
      "outputs": []
    }
  ]
}